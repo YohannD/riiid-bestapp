{
 "cells": [
  {
   "cell_type": "code",
   "execution_count": 6,
   "metadata": {
    "ExecuteTime": {
     "end_time": "2020-12-14T15:17:20.348425Z",
     "start_time": "2020-12-14T15:17:12.073741Z"
    }
   },
   "outputs": [],
   "source": [
    "import pandas as pd\n",
    "df = pd.read_csv('Heroku/data/Copy of train_1M_with_features_merged_v1.csv')"
   ]
  },
  {
   "cell_type": "code",
   "execution_count": 16,
   "metadata": {
    "ExecuteTime": {
     "end_time": "2020-12-14T15:25:11.558893Z",
     "start_time": "2020-12-14T15:25:11.510237Z"
    }
   },
   "outputs": [],
   "source": [
    "long_user = df.query('user_id==1641944791').iloc[:,4:][['user_personalized_qstat_knowing_had_explanation_or_not',\n",
    "       'qstats_answered_correctly', 'user_avg_score_cum',\n",
    "       'qstats_prior_question_had_explanation', 'already_seen',\n",
    "       'already_seen_tag_lecture', 'user_activity_cumcount',\n",
    "       'qstats_user_activity_cumcount', 'at_least_one_lesson',\n",
    "       'qstats_user_activity_cumcount_knowing_answered_correctly',\n",
    "       'qstats_task_container_id_knowing_answered_correctly', 'lectures_seen',\n",
    "       'qstats_count', 'qstats_answers', 'content_type_id']]"
   ]
  },
  {
   "cell_type": "code",
   "execution_count": 17,
   "metadata": {
    "ExecuteTime": {
     "end_time": "2020-12-14T15:26:05.093659Z",
     "start_time": "2020-12-14T15:26:03.004077Z"
    }
   },
   "outputs": [],
   "source": [
    "long_user.to_csv('long_user.csv')"
   ]
  },
  {
   "cell_type": "code",
   "execution_count": 21,
   "metadata": {
    "ExecuteTime": {
     "end_time": "2020-12-14T15:31:25.643829Z",
     "start_time": "2020-12-14T15:31:25.618436Z"
    }
   },
   "outputs": [
    {
     "data": {
      "text/plain": [
       "user_personalized_qstat_knowing_had_explanation_or_not      0\n",
       "qstats_answered_correctly                                   0\n",
       "user_avg_score_cum                                          0\n",
       "qstats_prior_question_had_explanation                       0\n",
       "already_seen                                                0\n",
       "already_seen_tag_lecture                                    0\n",
       "user_activity_cumcount                                      0\n",
       "qstats_user_activity_cumcount                               0\n",
       "at_least_one_lesson                                         0\n",
       "qstats_user_activity_cumcount_knowing_answered_correctly    0\n",
       "qstats_task_container_id_knowing_answered_correctly         0\n",
       "lectures_seen                                               0\n",
       "qstats_count                                                0\n",
       "qstats_answers                                              0\n",
       "content_type_id                                             0\n",
       "dtype: int64"
      ]
     },
     "execution_count": 21,
     "metadata": {},
     "output_type": "execute_result"
    }
   ],
   "source": [
    "np.isnan(long_user.fillna(0)).sum()"
   ]
  },
  {
   "cell_type": "code",
   "execution_count": null,
   "metadata": {},
   "outputs": [],
   "source": []
  }
 ],
 "metadata": {
  "kernelspec": {
   "display_name": "Python 3",
   "language": "python",
   "name": "python3"
  },
  "language_info": {
   "codemirror_mode": {
    "name": "ipython",
    "version": 3
   },
   "file_extension": ".py",
   "mimetype": "text/x-python",
   "name": "python",
   "nbconvert_exporter": "python",
   "pygments_lexer": "ipython3",
   "version": "3.7.7"
  },
  "toc": {
   "base_numbering": 1,
   "nav_menu": {},
   "number_sections": true,
   "sideBar": true,
   "skip_h1_title": false,
   "title_cell": "Table of Contents",
   "title_sidebar": "Contents",
   "toc_cell": false,
   "toc_position": {},
   "toc_section_display": true,
   "toc_window_display": false
  },
  "varInspector": {
   "cols": {
    "lenName": 16,
    "lenType": 16,
    "lenVar": 40
   },
   "kernels_config": {
    "python": {
     "delete_cmd_postfix": "",
     "delete_cmd_prefix": "del ",
     "library": "var_list.py",
     "varRefreshCmd": "print(var_dic_list())"
    },
    "r": {
     "delete_cmd_postfix": ") ",
     "delete_cmd_prefix": "rm(",
     "library": "var_list.r",
     "varRefreshCmd": "cat(var_dic_list()) "
    }
   },
   "types_to_exclude": [
    "module",
    "function",
    "builtin_function_or_method",
    "instance",
    "_Feature"
   ],
   "window_display": false
  }
 },
 "nbformat": 4,
 "nbformat_minor": 4
}
